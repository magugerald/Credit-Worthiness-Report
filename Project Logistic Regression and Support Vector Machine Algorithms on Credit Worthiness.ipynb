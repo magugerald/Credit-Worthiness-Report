{
 "cells": [
  {
   "cell_type": "markdown",
   "id": "70446fbe",
   "metadata": {},
   "source": [
    "# Logistic Regression and Support Vector Machine Algorithms on Credit Worthiness"
   ]
  },
  {
   "cell_type": "markdown",
   "id": "b04bf67f",
   "metadata": {},
   "source": [
    "The project focuses on applying Logistic Regression (LR) and Support Vector Machine (SVM) algorithms to predict the classification of individuals based on their creditworthiness report. Utilizing various features such as Age, Sex, Job, Housing, Saving accounts, Checking account, Credit amount, and Duration, the study aims to determine the most effective model for this prediction task. By evaluating and comparing the loss function of both LR and SVM, the project seeks to identify the optimal algorithm for accurately categorizing individuals' creditworthiness."
   ]
  },
  {
   "cell_type": "code",
   "execution_count": 37,
   "id": "bac68eb2",
   "metadata": {},
   "outputs": [],
   "source": [
    "#importing packages and modules\n",
    "import pandas as pd\n",
    "import numpy as np\n",
    "import seaborn as sns\n",
    "import matplotlib\n",
    "import matplotlib.pyplot as plt\n",
    "matplotlib.use('Agg')\n",
    "%matplotlib inline"
   ]
  },
  {
   "cell_type": "code",
   "execution_count": 292,
   "id": "f419faa9",
   "metadata": {},
   "outputs": [],
   "source": [
    "#Importing data\n",
    "creditdata = pd.read_csv('D:\\\\Python\\\\Datafolder\\\\german credit\\\\german_credit_data.csv')"
   ]
  },
  {
   "cell_type": "code",
   "execution_count": 127,
   "id": "a8c06c4e",
   "metadata": {},
   "outputs": [
    {
     "data": {
      "text/html": [
       "<div>\n",
       "<style scoped>\n",
       "    .dataframe tbody tr th:only-of-type {\n",
       "        vertical-align: middle;\n",
       "    }\n",
       "\n",
       "    .dataframe tbody tr th {\n",
       "        vertical-align: top;\n",
       "    }\n",
       "\n",
       "    .dataframe thead th {\n",
       "        text-align: right;\n",
       "    }\n",
       "</style>\n",
       "<table border=\"1\" class=\"dataframe\">\n",
       "  <thead>\n",
       "    <tr style=\"text-align: right;\">\n",
       "      <th></th>\n",
       "      <th>Age</th>\n",
       "      <th>Sex</th>\n",
       "      <th>Job</th>\n",
       "      <th>Housing</th>\n",
       "      <th>Saving accounts</th>\n",
       "      <th>Checking account</th>\n",
       "      <th>Credit amount</th>\n",
       "      <th>Duration</th>\n",
       "      <th>Purpose</th>\n",
       "      <th>Class</th>\n",
       "    </tr>\n",
       "  </thead>\n",
       "  <tbody>\n",
       "    <tr>\n",
       "      <th>0</th>\n",
       "      <td>67</td>\n",
       "      <td>male</td>\n",
       "      <td>2</td>\n",
       "      <td>own</td>\n",
       "      <td>NaN</td>\n",
       "      <td>little</td>\n",
       "      <td>1169</td>\n",
       "      <td>6</td>\n",
       "      <td>radio/TV</td>\n",
       "      <td>1</td>\n",
       "    </tr>\n",
       "    <tr>\n",
       "      <th>1</th>\n",
       "      <td>22</td>\n",
       "      <td>female</td>\n",
       "      <td>2</td>\n",
       "      <td>own</td>\n",
       "      <td>little</td>\n",
       "      <td>moderate</td>\n",
       "      <td>5951</td>\n",
       "      <td>48</td>\n",
       "      <td>radio/TV</td>\n",
       "      <td>2</td>\n",
       "    </tr>\n",
       "    <tr>\n",
       "      <th>2</th>\n",
       "      <td>49</td>\n",
       "      <td>male</td>\n",
       "      <td>1</td>\n",
       "      <td>own</td>\n",
       "      <td>little</td>\n",
       "      <td>NaN</td>\n",
       "      <td>2096</td>\n",
       "      <td>12</td>\n",
       "      <td>education</td>\n",
       "      <td>1</td>\n",
       "    </tr>\n",
       "    <tr>\n",
       "      <th>3</th>\n",
       "      <td>45</td>\n",
       "      <td>male</td>\n",
       "      <td>2</td>\n",
       "      <td>free</td>\n",
       "      <td>little</td>\n",
       "      <td>little</td>\n",
       "      <td>7882</td>\n",
       "      <td>42</td>\n",
       "      <td>furniture/equipment</td>\n",
       "      <td>1</td>\n",
       "    </tr>\n",
       "    <tr>\n",
       "      <th>4</th>\n",
       "      <td>53</td>\n",
       "      <td>male</td>\n",
       "      <td>2</td>\n",
       "      <td>free</td>\n",
       "      <td>little</td>\n",
       "      <td>little</td>\n",
       "      <td>4870</td>\n",
       "      <td>24</td>\n",
       "      <td>car</td>\n",
       "      <td>2</td>\n",
       "    </tr>\n",
       "  </tbody>\n",
       "</table>\n",
       "</div>"
      ],
      "text/plain": [
       "   Age     Sex  Job Housing Saving accounts Checking account  Credit amount  \\\n",
       "0   67    male    2     own             NaN           little           1169   \n",
       "1   22  female    2     own          little         moderate           5951   \n",
       "2   49    male    1     own          little              NaN           2096   \n",
       "3   45    male    2    free          little           little           7882   \n",
       "4   53    male    2    free          little           little           4870   \n",
       "\n",
       "   Duration              Purpose  Class  \n",
       "0         6             radio/TV      1  \n",
       "1        48             radio/TV      2  \n",
       "2        12            education      1  \n",
       "3        42  furniture/equipment      1  \n",
       "4        24                  car      2  "
      ]
     },
     "execution_count": 127,
     "metadata": {},
     "output_type": "execute_result"
    }
   ],
   "source": [
    "creditdata.head()"
   ]
  },
  {
   "cell_type": "code",
   "execution_count": 276,
   "id": "92d6f9e5",
   "metadata": {},
   "outputs": [
    {
     "data": {
      "text/plain": [
       "Index(['Age', 'Sex', 'Job', 'Housing', 'Saving accounts', 'Checking account',\n",
       "       'Credit amount', 'Duration', 'Purpose', 'Class'],\n",
       "      dtype='object')"
      ]
     },
     "execution_count": 276,
     "metadata": {},
     "output_type": "execute_result"
    }
   ],
   "source": [
    "creditdata.columns"
   ]
  },
  {
   "cell_type": "code",
   "execution_count": 76,
   "id": "92c06b00",
   "metadata": {},
   "outputs": [
    {
     "name": "stdout",
     "output_type": "stream",
     "text": [
      "<class 'pandas.core.frame.DataFrame'>\n",
      "RangeIndex: 1000 entries, 0 to 999\n",
      "Data columns (total 10 columns):\n",
      " #   Column            Non-Null Count  Dtype \n",
      "---  ------            --------------  ----- \n",
      " 0   Age               1000 non-null   int64 \n",
      " 1   Sex               1000 non-null   object\n",
      " 2   Job               1000 non-null   int64 \n",
      " 3   Housing           1000 non-null   object\n",
      " 4   Saving accounts   817 non-null    object\n",
      " 5   Checking account  606 non-null    object\n",
      " 6   Credit amount     1000 non-null   int64 \n",
      " 7   Duration          1000 non-null   int64 \n",
      " 8   Purpose           1000 non-null   object\n",
      " 9   Class             1000 non-null   int64 \n",
      "dtypes: int64(5), object(5)\n",
      "memory usage: 78.2+ KB\n"
     ]
    }
   ],
   "source": [
    "creditdata.info()"
   ]
  },
  {
   "cell_type": "code",
   "execution_count": 71,
   "id": "51d928fc",
   "metadata": {},
   "outputs": [
    {
     "data": {
      "text/plain": [
       "Age                   0\n",
       "Sex                   0\n",
       "Job                   0\n",
       "Housing               0\n",
       "Saving accounts     183\n",
       "Checking account    394\n",
       "Credit amount         0\n",
       "Duration              0\n",
       "Purpose               0\n",
       "Class                 0\n",
       "dtype: int64"
      ]
     },
     "execution_count": 71,
     "metadata": {},
     "output_type": "execute_result"
    }
   ],
   "source": [
    "#Checking null values\n",
    "creditdata.isnull().sum()"
   ]
  },
  {
   "cell_type": "markdown",
   "id": "631ffe06",
   "metadata": {},
   "source": [
    "## Visualizing the data"
   ]
  },
  {
   "cell_type": "code",
   "execution_count": 69,
   "id": "79cfa666",
   "metadata": {},
   "outputs": [
    {
     "data": {
      "text/plain": [
       "<AxesSubplot:xlabel='Class', ylabel='count'>"
      ]
     },
     "execution_count": 69,
     "metadata": {},
     "output_type": "execute_result"
    },
    {
     "data": {
      "image/png": "[encoded data removed]",
      "text/plain": [
       "<Figure size 720x1152 with 6 Axes>"
      ]
     },
     "metadata": {
      "needs_background": "light"
     },
     "output_type": "display_data"
    }
   ],
   "source": [
    "# Creating count plots for Sex, Job, Housing, Saving accounts, Checking account, Credit acoount, and Class\n",
    "fig, ax =plt.subplots(3, 2, figsize=(10,16))\n",
    "sns.countplot(x=creditdata['Sex'], ax=ax[0, 0])\n",
    "sns.countplot(x=creditdata['Job'], ax=ax[0, 1])\n",
    "sns.countplot(x=creditdata['Housing'], ax=ax[1, 0])\n",
    "sns.countplot(x=creditdata['Saving accounts'], ax=ax[1, 1])\n",
    "sns.countplot(x=creditdata['Checking account'], ax=ax[2, 0])\n",
    "sns.countplot(x=creditdata['Class'], ax=ax[2, 1])"
   ]
  },
  {
   "cell_type": "markdown",
   "id": "b40c61d4",
   "metadata": {},
   "source": [
    "### Replacing the missing values"
   ]
  },
  {
   "cell_type": "code",
   "execution_count": 293,
   "id": "1aa04545",
   "metadata": {},
   "outputs": [
    {
     "data": {
      "text/plain": [
       "<AxesSubplot:>"
      ]
     },
     "execution_count": 293,
     "metadata": {},
     "output_type": "execute_result"
    },
    {
     "data": {
      "image/png": "[encoded data removed]",
      "text/plain": [
       "<Figure size 432x288 with 2 Axes>"
      ]
     },
     "metadata": {
      "needs_background": "light"
     },
     "output_type": "display_data"
    }
   ],
   "source": [
    "#Checking for the missing values using a heatmap\n",
    "sns.heatmap(creditdata.isnull(), yticklabels=False, cmap='viridis')"
   ]
  },
  {
   "cell_type": "code",
   "execution_count": 128,
   "id": "d42b5f57",
   "metadata": {},
   "outputs": [],
   "source": [
    "# Filling missing values with maximum count\n",
    "creditdata['Saving accounts'].fillna('little', inplace=True)\n",
    "creditdata['Checking account'].fillna('little', inplace=True)"
   ]
  },
  {
   "cell_type": "code",
   "execution_count": 129,
   "id": "4aeb65cd",
   "metadata": {},
   "outputs": [
    {
     "data": {
      "text/plain": [
       "Age                 0\n",
       "Sex                 0\n",
       "Job                 0\n",
       "Housing             0\n",
       "Saving accounts     0\n",
       "Checking account    0\n",
       "Credit amount       0\n",
       "Duration            0\n",
       "Purpose             0\n",
       "Class               0\n",
       "dtype: int64"
      ]
     },
     "execution_count": 129,
     "metadata": {},
     "output_type": "execute_result"
    }
   ],
   "source": [
    "#Checking if there more missing values\n",
    "creditdata.isnull().sum()"
   ]
  },
  {
   "cell_type": "markdown",
   "id": "d888bba8",
   "metadata": {},
   "source": [
    "## Changing the data to categorical variables"
   ]
  },
  {
   "cell_type": "code",
   "execution_count": 130,
   "id": "c78cbaf4",
   "metadata": {},
   "outputs": [],
   "source": [
    "# Changing the categorical variables to numerical variables\n",
    "newcreditdata = pd.get_dummies(data=creditdata, columns=['Sex','Housing', 'Saving accounts', 'Checking account','Class' ], drop_first=True)"
   ]
  },
  {
   "cell_type": "code",
   "execution_count": 131,
   "id": "fdf7aafc",
   "metadata": {},
   "outputs": [],
   "source": [
    "# Dropping the purpose column\n",
    "newcreditdata.drop(['Purpose'], axis=1, inplace=True)"
   ]
  },
  {
   "cell_type": "code",
   "execution_count": 134,
   "id": "e5d3b776",
   "metadata": {},
   "outputs": [],
   "source": [
    "# Renaming columns\n",
    "newcreditdata.rename(columns = {'Sex_male':'Sex', 'Class_2':'Class'}, inplace = True)"
   ]
  },
  {
   "cell_type": "code",
   "execution_count": 135,
   "id": "9104d4bd",
   "metadata": {},
   "outputs": [
    {
     "data": {
      "text/html": [
       "<div>\n",
       "<style scoped>\n",
       "    .dataframe tbody tr th:only-of-type {\n",
       "        vertical-align: middle;\n",
       "    }\n",
       "\n",
       "    .dataframe tbody tr th {\n",
       "        vertical-align: top;\n",
       "    }\n",
       "\n",
       "    .dataframe thead th {\n",
       "        text-align: right;\n",
       "    }\n",
       "</style>\n",
       "<table border=\"1\" class=\"dataframe\">\n",
       "  <thead>\n",
       "    <tr style=\"text-align: right;\">\n",
       "      <th></th>\n",
       "      <th>Age</th>\n",
       "      <th>Job</th>\n",
       "      <th>Credit amount</th>\n",
       "      <th>Duration</th>\n",
       "      <th>Sex</th>\n",
       "      <th>Housing_own</th>\n",
       "      <th>Housing_rent</th>\n",
       "      <th>Saving accounts_moderate</th>\n",
       "      <th>Saving accounts_quite rich</th>\n",
       "      <th>Saving accounts_rich</th>\n",
       "      <th>Checking account_moderate</th>\n",
       "      <th>Checking account_rich</th>\n",
       "      <th>Class</th>\n",
       "    </tr>\n",
       "  </thead>\n",
       "  <tbody>\n",
       "    <tr>\n",
       "      <th>0</th>\n",
       "      <td>67</td>\n",
       "      <td>2</td>\n",
       "      <td>1169</td>\n",
       "      <td>6</td>\n",
       "      <td>1</td>\n",
       "      <td>1</td>\n",
       "      <td>0</td>\n",
       "      <td>0</td>\n",
       "      <td>0</td>\n",
       "      <td>0</td>\n",
       "      <td>0</td>\n",
       "      <td>0</td>\n",
       "      <td>0</td>\n",
       "    </tr>\n",
       "    <tr>\n",
       "      <th>1</th>\n",
       "      <td>22</td>\n",
       "      <td>2</td>\n",
       "      <td>5951</td>\n",
       "      <td>48</td>\n",
       "      <td>0</td>\n",
       "      <td>1</td>\n",
       "      <td>0</td>\n",
       "      <td>0</td>\n",
       "      <td>0</td>\n",
       "      <td>0</td>\n",
       "      <td>1</td>\n",
       "      <td>0</td>\n",
       "      <td>1</td>\n",
       "    </tr>\n",
       "    <tr>\n",
       "      <th>2</th>\n",
       "      <td>49</td>\n",
       "      <td>1</td>\n",
       "      <td>2096</td>\n",
       "      <td>12</td>\n",
       "      <td>1</td>\n",
       "      <td>1</td>\n",
       "      <td>0</td>\n",
       "      <td>0</td>\n",
       "      <td>0</td>\n",
       "      <td>0</td>\n",
       "      <td>0</td>\n",
       "      <td>0</td>\n",
       "      <td>0</td>\n",
       "    </tr>\n",
       "    <tr>\n",
       "      <th>3</th>\n",
       "      <td>45</td>\n",
       "      <td>2</td>\n",
       "      <td>7882</td>\n",
       "      <td>42</td>\n",
       "      <td>1</td>\n",
       "      <td>0</td>\n",
       "      <td>0</td>\n",
       "      <td>0</td>\n",
       "      <td>0</td>\n",
       "      <td>0</td>\n",
       "      <td>0</td>\n",
       "      <td>0</td>\n",
       "      <td>0</td>\n",
       "    </tr>\n",
       "    <tr>\n",
       "      <th>4</th>\n",
       "      <td>53</td>\n",
       "      <td>2</td>\n",
       "      <td>4870</td>\n",
       "      <td>24</td>\n",
       "      <td>1</td>\n",
       "      <td>0</td>\n",
       "      <td>0</td>\n",
       "      <td>0</td>\n",
       "      <td>0</td>\n",
       "      <td>0</td>\n",
       "      <td>0</td>\n",
       "      <td>0</td>\n",
       "      <td>1</td>\n",
       "    </tr>\n",
       "  </tbody>\n",
       "</table>\n",
       "</div>"
      ],
      "text/plain": [
       "   Age  Job  Credit amount  Duration  Sex  Housing_own  Housing_rent  \\\n",
       "0   67    2           1169         6    1            1             0   \n",
       "1   22    2           5951        48    0            1             0   \n",
       "2   49    1           2096        12    1            1             0   \n",
       "3   45    2           7882        42    1            0             0   \n",
       "4   53    2           4870        24    1            0             0   \n",
       "\n",
       "   Saving accounts_moderate  Saving accounts_quite rich  Saving accounts_rich  \\\n",
       "0                         0                           0                     0   \n",
       "1                         0                           0                     0   \n",
       "2                         0                           0                     0   \n",
       "3                         0                           0                     0   \n",
       "4                         0                           0                     0   \n",
       "\n",
       "   Checking account_moderate  Checking account_rich  Class  \n",
       "0                          0                      0      0  \n",
       "1                          1                      0      1  \n",
       "2                          0                      0      0  \n",
       "3                          0                      0      0  \n",
       "4                          0                      0      1  "
      ]
     },
     "execution_count": 135,
     "metadata": {},
     "output_type": "execute_result"
    }
   ],
   "source": [
    "newcreditdata.head()"
   ]
  },
  {
   "cell_type": "code",
   "execution_count": 133,
   "id": "084483c8",
   "metadata": {},
   "outputs": [
    {
     "data": {
      "text/plain": [
       "Index(['Age', 'Job', 'Credit amount', 'Duration', 'Sex_male', 'Housing_own',\n",
       "       'Housing_rent', 'Saving accounts_moderate',\n",
       "       'Saving accounts_quite rich', 'Saving accounts_rich',\n",
       "       'Checking account_moderate', 'Checking account_rich', 'Class_2'],\n",
       "      dtype='object')"
      ]
     },
     "execution_count": 133,
     "metadata": {},
     "output_type": "execute_result"
    }
   ],
   "source": [
    "newcreditdata.columns"
   ]
  },
  {
   "cell_type": "markdown",
   "id": "5b2778ce",
   "metadata": {},
   "source": [
    "## Training and Testing Data"
   ]
  },
  {
   "cell_type": "code",
   "execution_count": 169,
   "id": "afc3e744",
   "metadata": {},
   "outputs": [],
   "source": [
    "# Dividing data into independent and dependent variables (X, y)\n",
    "X= newcreditdata.drop('Class', axis=1)\n",
    "y= newcreditdata['Class']"
   ]
  },
  {
   "cell_type": "code",
   "execution_count": 205,
   "id": "30452401",
   "metadata": {},
   "outputs": [],
   "source": [
    "# splitting data it into training and testing \n",
    "from sklearn.model_selection import train_test_split\n",
    "\n",
    "X_train, X_test, y_train, y_test = train_test_split (X, y, test_size=0.3, random_state=1)"
   ]
  },
  {
   "cell_type": "markdown",
   "id": "9f5f55f2",
   "metadata": {},
   "source": [
    "## Using Logistic Regression"
   ]
  },
  {
   "cell_type": "code",
   "execution_count": 206,
   "id": "c03f89d7",
   "metadata": {},
   "outputs": [],
   "source": [
    "#Importing the Logistic regression algorithm\n",
    "from sklearn.linear_model import LogisticRegression\n",
    "\n",
    "lorgmodel = LogisticRegression()"
   ]
  },
  {
   "cell_type": "code",
   "execution_count": 224,
   "id": "4536226b",
   "metadata": {},
   "outputs": [],
   "source": [
    "# Trianing the model\n",
    "ModelTrain = lorgmodel.fit(X_train, y_train)"
   ]
  },
  {
   "cell_type": "code",
   "execution_count": 225,
   "id": "636b61c1",
   "metadata": {},
   "outputs": [
    {
     "data": {
      "text/plain": [
       "array([[-2.27664693e-02, -8.42701010e-02,  1.57059337e-05,\n",
       "         3.49590994e-02, -3.59667710e-01, -5.42256790e-01,\n",
       "         1.89903478e-01, -1.48807859e-02, -1.44797479e-01,\n",
       "        -3.27667495e-01,  3.00005544e-01, -5.16905940e-02]])"
      ]
     },
     "execution_count": 225,
     "metadata": {},
     "output_type": "execute_result"
    }
   ],
   "source": [
    "#Model Coefficients\n",
    "ModelTrain.coef_"
   ]
  },
  {
   "cell_type": "code",
   "execution_count": 208,
   "id": "cf948564",
   "metadata": {},
   "outputs": [],
   "source": [
    "# Using the model to predict\n",
    "predicted = ModelTrain.predict(X_test)"
   ]
  },
  {
   "cell_type": "code",
   "execution_count": null,
   "id": "71bc381d",
   "metadata": {},
   "outputs": [],
   "source": [
    "# Plotting training results against predictions\n",
    "plt.figure(figsize=(10, 6))\n",
    "ax1 = sns.distplot(y_test, hist=False, color=\"r\", label=\"Actual Value\")\n",
    "sns.distplot(predicted, hist=False, color=\"b\", label=\"Predicted Values\" , ax=ax1)\n",
    "plt.title('Plotting Actual results against predicted')\n",
    "plt.xlabel('Actual Value')\n",
    "plt.ylabel('Predicted Values')\n",
    "plt.legend(loc=\"upper right\")\n"
   ]
  },
  {
   "cell_type": "markdown",
   "id": "d9f56fcd",
   "metadata": {},
   "source": [
    "### Accuracy Score"
   ]
  },
  {
   "cell_type": "code",
   "execution_count": 209,
   "id": "bc92ec65",
   "metadata": {},
   "outputs": [
    {
     "data": {
      "text/plain": [
       "0.7233333333333334"
      ]
     },
     "execution_count": 209,
     "metadata": {},
     "output_type": "execute_result"
    }
   ],
   "source": [
    "#Checking accuracy score of the model\n",
    "from sklearn.metrics import accuracy_score\n",
    "accuracy_score(y_test, predicted)"
   ]
  },
  {
   "cell_type": "code",
   "execution_count": 211,
   "id": "17ee0a81",
   "metadata": {},
   "outputs": [
    {
     "data": {
      "text/plain": [
       "array([[199,  15],\n",
       "       [ 68,  18]], dtype=int64)"
      ]
     },
     "execution_count": 211,
     "metadata": {},
     "output_type": "execute_result"
    }
   ],
   "source": [
    "# Confusion Matrix\n",
    "from sklearn.metrics import confusion_matrix\n",
    "confusion_matrix(y_test, predicted)"
   ]
  },
  {
   "cell_type": "markdown",
   "id": "d70a9bfc",
   "metadata": {},
   "source": [
    "### Error of the prediction"
   ]
  },
  {
   "cell_type": "code",
   "execution_count": 210,
   "id": "57469881",
   "metadata": {},
   "outputs": [
    {
     "data": {
      "text/plain": [
       "0.27666666666666667"
      ]
     },
     "execution_count": 210,
     "metadata": {},
     "output_type": "execute_result"
    }
   ],
   "source": [
    "#Checking for the error of prediction\n",
    "from sklearn.metrics import mean_squared_error\n",
    "\n",
    "mean_squared_error(y_test, predicted)\n"
   ]
  },
  {
   "cell_type": "markdown",
   "id": "87210c34",
   "metadata": {},
   "source": [
    "## Logistic Regression Loss function"
   ]
  },
  {
   "cell_type": "code",
   "execution_count": 260,
   "id": "d16930d4",
   "metadata": {},
   "outputs": [
    {
     "data": {
      "text/plain": [
       "9.5557681157968"
      ]
     },
     "execution_count": 260,
     "metadata": {},
     "output_type": "execute_result"
    }
   ],
   "source": [
    "from sklearn.metrics import log_loss\n",
    "\n",
    "log_loss(y_test, predicted)\n"
   ]
  },
  {
   "cell_type": "code",
   "execution_count": 278,
   "id": "fc3227c2",
   "metadata": {},
   "outputs": [],
   "source": [
    "# Slicing some part of the y_test data for the creation of the plot\n",
    "ytest=np.array(y_test)\n",
    "ytest1 = ytest[1:20]"
   ]
  },
  {
   "cell_type": "code",
   "execution_count": 279,
   "id": "b6e81373",
   "metadata": {},
   "outputs": [
    {
     "data": {
      "text/plain": [
       "array([0, 0, 1, 1, 0, 0, 0, 0, 0, 1, 0, 0, 0, 0, 0, 0, 0, 0, 1],\n",
       "      dtype=uint8)"
      ]
     },
     "execution_count": 279,
     "metadata": {},
     "output_type": "execute_result"
    }
   ],
   "source": [
    "ytest1"
   ]
  },
  {
   "cell_type": "code",
   "execution_count": 280,
   "id": "fb2ae6b3",
   "metadata": {},
   "outputs": [],
   "source": [
    "# Slicing some part of the predicted data for the creation of the plot\n",
    "y_predicted= np.array(predicted)\n",
    "ypredicted1= y_predicted[1:20]"
   ]
  },
  {
   "cell_type": "code",
   "execution_count": 281,
   "id": "c967bb62",
   "metadata": {},
   "outputs": [
    {
     "data": {
      "text/plain": [
       "array([0, 0, 0, 1, 0, 0, 0, 0, 0, 0, 0, 1, 0, 0, 0, 0, 0, 0, 1],\n",
       "      dtype=uint8)"
      ]
     },
     "execution_count": 281,
     "metadata": {},
     "output_type": "execute_result"
    }
   ],
   "source": [
    "ypredicted1"
   ]
  },
  {
   "cell_type": "code",
   "execution_count": 284,
   "id": "a94c24fc",
   "metadata": {},
   "outputs": [
    {
     "data": {
      "image/png": "[encoded data removed]",
      "text/plain": [
       "<Figure size 432x288 with 1 Axes>"
      ]
     },
     "metadata": {
      "needs_background": "light"
     },
     "output_type": "display_data"
    }
   ],
   "source": [
    "# Loss function chart\n",
    "plt.plot(ytest1, ypredicted1)\n",
    "plt.show()"
   ]
  },
  {
   "cell_type": "markdown",
   "id": "7dfe66de",
   "metadata": {},
   "source": [
    "## Using Support Vector Machine"
   ]
  },
  {
   "cell_type": "code",
   "execution_count": 213,
   "id": "5a2be35c",
   "metadata": {},
   "outputs": [],
   "source": [
    "#Importing the SVM algorithm\n",
    "from sklearn import svm\n",
    "\n",
    "svmmodel = svm.SVR()"
   ]
  },
  {
   "cell_type": "code",
   "execution_count": 214,
   "id": "edc77463",
   "metadata": {},
   "outputs": [],
   "source": [
    "# Trianing the model\n",
    "ModelTrain1 = svmmodel.fit(X_train, y_train)"
   ]
  },
  {
   "cell_type": "code",
   "execution_count": 215,
   "id": "62b7bf51",
   "metadata": {},
   "outputs": [],
   "source": [
    "# Using the model to predict\n",
    "predicted1 = ModelTrain1.predict(X_test)"
   ]
  },
  {
   "cell_type": "markdown",
   "id": "f85e1b6c",
   "metadata": {},
   "source": [
    "### SVM Error of prediction"
   ]
  },
  {
   "cell_type": "code",
   "execution_count": 217,
   "id": "6538128e",
   "metadata": {},
   "outputs": [
    {
     "data": {
      "text/plain": [
       "0.2340025944359387"
      ]
     },
     "execution_count": 217,
     "metadata": {},
     "output_type": "execute_result"
    }
   ],
   "source": [
    "#Checking for the error of prediction\n",
    "from sklearn.metrics import mean_squared_error\n",
    "\n",
    "mean_squared_error(y_test, predicted1)"
   ]
  },
  {
   "cell_type": "markdown",
   "id": "2b631aef",
   "metadata": {},
   "source": [
    "## SVM Loss function"
   ]
  },
  {
   "cell_type": "code",
   "execution_count": 263,
   "id": "f63a9a0f",
   "metadata": {},
   "outputs": [
    {
     "data": {
      "text/plain": [
       "0.7228514872139349"
      ]
     },
     "execution_count": 263,
     "metadata": {},
     "output_type": "execute_result"
    }
   ],
   "source": [
    "# Displaying the loss function\n",
    "log_loss(y_test, predicted1)"
   ]
  },
  {
   "cell_type": "code",
   "execution_count": 285,
   "id": "7ba60aa0",
   "metadata": {},
   "outputs": [],
   "source": [
    "ytest1=np.array(y_test)\n",
    "ytest2 = ytest1[1:20]"
   ]
  },
  {
   "cell_type": "code",
   "execution_count": 286,
   "id": "2f1fe8c0",
   "metadata": {},
   "outputs": [
    {
     "data": {
      "text/plain": [
       "array([0, 0, 1, 1, 0, 0, 0, 0, 0, 1, 0, 0, 0, 0, 0, 0, 0, 0, 1],\n",
       "      dtype=uint8)"
      ]
     },
     "execution_count": 286,
     "metadata": {},
     "output_type": "execute_result"
    }
   ],
   "source": [
    "ytest2"
   ]
  },
  {
   "cell_type": "code",
   "execution_count": 288,
   "id": "480aeaf1",
   "metadata": {},
   "outputs": [],
   "source": [
    "y_predicted1= np.array(predicted1)\n",
    "ypredicted2= y_predicted1[1:20]"
   ]
  },
  {
   "cell_type": "code",
   "execution_count": 289,
   "id": "6c0d9218",
   "metadata": {},
   "outputs": [
    {
     "data": {
      "text/plain": [
       "array([0.90435192, 0.10020473, 0.09976797, 0.10058678, 0.09973551,\n",
       "       0.10192948, 0.09963661, 0.09981902, 0.10032565, 0.10028416,\n",
       "       0.0997198 , 0.09671731, 0.09984167, 0.09541932, 0.10027809,\n",
       "       0.10037453, 0.10020686, 0.10033498, 0.14800145])"
      ]
     },
     "execution_count": 289,
     "metadata": {},
     "output_type": "execute_result"
    }
   ],
   "source": [
    "ypredicted2"
   ]
  },
  {
   "cell_type": "code",
   "execution_count": 290,
   "id": "a31c94d3",
   "metadata": {},
   "outputs": [
    {
     "data": {
      "image/png": "[encoded data removed]",
      "text/plain": [
       "<Figure size 432x288 with 1 Axes>"
      ]
     },
     "metadata": {
      "needs_background": "light"
     },
     "output_type": "display_data"
    }
   ],
   "source": [
    "# Ploting the SVM loss function\n",
    "plt.plot(ytest2, ypredicted2)\n",
    "plt.show()"
   ]
  },
  {
   "cell_type": "code",
   "execution_count": null,
   "id": "0a651429",
   "metadata": {},
   "outputs": [],
   "source": []
  }
 ],
 "metadata": {
  "kernelspec": {
   "display_name": "Python 3 (ipykernel)",
   "language": "python",
   "name": "python3"
  },
  "language_info": {
   "codemirror_mode": {
    "name": "ipython",
    "version": 3
   },
   "file_extension": ".py",
   "mimetype": "text/x-python",
   "name": "python",
   "nbconvert_exporter": "python",
   "pygments_lexer": "ipython3",
   "version": "3.9.7"
  }
 },
 "nbformat": 4,
 "nbformat_minor": 5
}
